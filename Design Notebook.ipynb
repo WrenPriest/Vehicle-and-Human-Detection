{
 "cells": [
  {
   "cell_type": "markdown",
   "metadata": {},
   "source": [
    "# <center> Design Notebook"
   ]
  },
  {
   "cell_type": "markdown",
   "metadata": {},
   "source": [
    "## General Approach"
   ]
  },
  {
   "cell_type": "markdown",
   "metadata": {},
   "source": [
    "```\n",
    "cv2 while loop to process entire video\n",
    "\n",
    "    > call object detection function (creates bounding boxes)\n",
    "\n",
    "    > call counter function (check if bounding box intersects ROI)\n",
    "\n",
    "    > call drawing functions (ROI line and counter text)\n",
    "\n",
    "    > save output video\n",
    " ```"
   ]
  },
  {
   "cell_type": "markdown",
   "metadata": {},
   "source": [
    "### Counter Function"
   ]
  },
  {
   "cell_type": "markdown",
   "metadata": {},
   "source": [
    "\n",
    "Setting a certain range that is dynamic based on pixel width of the video would be able to account for faster\n",
    "vehicles and flickering object detection\n",
    "Within a certain range of the width--> width +- some range (.02)*width\n",
    "```\n",
    "range(width/2 - .02 * width,\n",
    "        width/2 + .02 * width)\n",
    "```"
   ]
  },
  {
   "cell_type": "markdown",
   "metadata": {},
   "source": [
    "### Drawing ROI Line and Counter Text Functions"
   ]
  },
  {
   "cell_type": "markdown",
   "metadata": {},
   "source": [
    "**Horizontal**\n",
    "```\n",
    "def draw_line(roi_pos, is_horizontal):\n",
    "        roi_start = (0, roi_pos) if is_horizontal else (roi_pos, 0)\n",
    "        roi_end = (width, roi_pos) if is_horizontal else (roi_pos, height)\n",
    "        if counter == 1:\n",
    "            cv2.line(input_frame, roi_start, roi_end, (0, 0xFF, 0), 5)\n",
    "        else:\n",
    "            cv2.line(input_frame, roi_start, roi_end, (0, 0, 0xFF), 5)\n",
    "    draw_line(roi_info['position'], roi_info['direction'] in ['bottom_up', 'top_down'])\n",
    "\n",
    "roi_start = (0,int(height/2))\n",
    "rot_end = (int(width),height/2))\n",
    "cv2.line(input_frame, roi_start, roi_end, (0, 0xFF, 0), 5)\n",
    "```\n",
    "\n",
    "**Vertical**\n",
    "```\n",
    "roi_start = (int(width/2),0)\n",
    "rot_end = (int(width/2),height)\n",
    "cv2.line(input_frame, roi_start, roi_end, (0, 0xFF, 0), 5)\n",
    "```\n",
    "\n",
    "**Printing counter**\n",
    "\n",
    ">Reference\n",
    ">\n",
    "```\n",
    "font = cv2.FONT_HERSHEY_SIMPLEX\n",
    "cv2.putText(\n",
    "    input_frame,\n",
    "    'Detected Vehicles: ' + str(total_passed_vehicle),\n",
    "    (10, 35),\n",
    "    font,\n",
    "    0.8,\n",
    "    (0, 0xFF, 0xFF),\n",
    "    2,\n",
    "    cv2.FONT_HERSHEY_SIMPLEX,\n",
    "    )\n",
    "```\n",
    "\n",
    "> Our Implementation\n",
    ">\n",
    "```\n",
    "font = cv2.FONT_HERSHEY_SIMPLEX\n",
    "cv2.putText(\n",
    "    input_frame,\n",
    "    'Detected Vehicles: ' + str(counter),\n",
    "    (10, 35),\n",
    "    font,\n",
    "    0.8,\n",
    "    (0, 0xFF, 0xFF),\n",
    "    2,\n",
    "    cv2.FONT_HERSHEY_SIMPLEX,\n",
    "    )\n",
    " ```"
   ]
  },
  {
   "cell_type": "code",
   "execution_count": null,
   "metadata": {},
   "outputs": [],
   "source": []
  }
 ],
 "metadata": {
  "kernelspec": {
   "display_name": "Python 3.8.5 64-bit ('anaconda3': virtualenv)",
   "language": "python",
   "name": "python385jvsc74a57bd01fa3a03e24d18829ccafe70da6c69ffaaeda1dae8bdf824830622d71397bb9d8"
  },
  "language_info": {
   "codemirror_mode": {
    "name": "ipython",
    "version": 3
   },
   "file_extension": ".py",
   "mimetype": "text/x-python",
   "name": "python",
   "nbconvert_exporter": "python",
   "pygments_lexer": "ipython3",
   "version": "3.8.5"
  }
 },
 "nbformat": 4,
 "nbformat_minor": 4
}