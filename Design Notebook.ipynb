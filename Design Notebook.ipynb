{
 "cells": [
  {
   "cell_type": "markdown",
   "source": [
    "# <center> Design Notebook"
   ],
   "metadata": {}
  },
  {
   "cell_type": "markdown",
   "source": [
    "## General Approach\n",
    "\n",
    "Use a cv2 while ret is True loop to process entire video\n",
    "- call object detection function (creates bounding boxes)\n",
    "- call counter function (check if bounding box intersects ROI)\n",
    "- call drawing functions (ROI line, bounding boxes, counter text)\n",
    "- return output video"
   ],
   "metadata": {}
  },
  {
   "cell_type": "markdown",
   "source": [
    "### Object Detection Function\n",
    "\n",
    "- Import SSD_MobileNet_V1\n",
    "- Create label dictionary for converting detection classes to label strings\n",
    "- Output vertices for every detected vehicle or person *(for Drawing Functions)*\n",
    "- Compute and store average/center of two vertices *(for Counter Function)*\n",
    "    - use top-left and top-right vertices for vertical ROI\n",
    "    - use top-right and bottom-right vertices for horizontal ROI"
   ],
   "metadata": {
    "collapsed": false
   }
  },
  {
   "cell_type": "markdown",
   "source": [
    "### Counter Function\n",
    "\n",
    "Setting a ROI range that is dynamic based on width of the video should be able to account for faster\n",
    "vehicles and flickering bounding boxes. Center of bounding boxes will be used since the center of\n",
    "bounding boxes should vary less than vertices. Videos should all be 30 FPS but range may need to be\n",
    "adjusted depending on speed of vehicles or pedestrians. Since pedestrians are slower than vehicles,\n",
    "pedestrians may require a smaller ROI to avoid double counting.\n",
    "\n",
    "if box_center is within a certain range of the width +/- 2% of width then increase counter by 1\n",
    "\n",
    "Will also return is_vehicle_detected as boolean *(for Drawing Functions)*\n",
    "\n",
    "```\n",
    "if box_center in range(int(width/2 - .02 * width),\n",
    "                       int(width/2 + .02 * width)):\n",
    "    counter += 1\n",
    "    is_vehicle_detected = True\n",
    "else:\n",
    "    is_vehicle_detected = False\n",
    "```"
   ],
   "metadata": {}
  },
  {
   "cell_type": "markdown",
   "source": [
    "### Drawing Functions\n",
    "\n",
    "#### ROI Line\n",
    "\n",
    "Will have a conditional for a vertical line or horizontal line.\n",
    "If is_vehicle_detected is True then ROI line will be green, otherwise it will be red.\n",
    "\n",
    "\n",
    "```\n",
    "if ROI_Line == 'vertical':\n",
    "    roi_start = (int(width/2), 0)\n",
    "    rot_end = (int(width/2), height)\n",
    "else:\n",
    "    roi_start = (0, int(height/2))\n",
    "    rot_end = (width, int(height/2))\n",
    "\n",
    "if is_vehicle_detected is True:\n",
    "    cv2.line(input_frame, roi_start, roi_end, (0, 0, 0xFF), 5)\n",
    "else:\n",
    "    cv2.line(input_frame, roi_start, roi_end, (0, 0xFF, 0), 5)\n",
    "```\n",
    "\n",
    "#### Bounding Boxes\n",
    "\n",
    "Investigate implementation in reference API and decide whether to use\n",
    "Pillow (reference API) or cv2.rectangle (new implementation from scratch)\n",
    "\n",
    "```\n",
    "# Actual detection\n",
    "(boxes, scores, classes, num) = \\\n",
    "    sess.run([detection_boxes, detection_scores,\n",
    "             detection_classes, num_detections],\n",
    "             feed_dict={image_tensor: image_np_expanded})\n",
    "\n",
    "# Visualization of the results of a detection.\n",
    "(counter, csv_line) = \\\n",
    "    vis_util.visualize_boxes_and_labels_on_image_array(\n",
    "    cap.get(1),\n",
    "    input_frame,\n",
    "    np.squeeze(boxes),\n",
    "    np.squeeze(classes).astype(np.int32),\n",
    "    np.squeeze(scores),\n",
    "    category_index,\n",
    "    roi_info,\n",
    "    use_normalized_coordinates=True,\n",
    "    line_thickness=4,\n",
    "    )\n",
    "```\n",
    "\n",
    "\n",
    "#### Counter Text\n",
    "\n",
    "Could be fine-tuned to be more dynamic and not be set to precise pixels\n",
    "\n",
    "```\n",
    "font = cv2.FONT_HERSHEY_SIMPLEX\n",
    "cv2.putText(\n",
    "    input_frame,\n",
    "    'Detected Vehicles: ' + str(counter),\n",
    "    (10, 35),\n",
    "    font,\n",
    "    0.8,\n",
    "    (0, 0xFF, 0xFF),\n",
    "    2,\n",
    "    cv2.FONT_HERSHEY_SIMPLEX,\n",
    "    )\n",
    " ```\n"
   ],
   "metadata": {
    "pycharm": {
     "name": "#%% md\n"
    }
   }
  },
  {
   "cell_type": "markdown",
   "source": [
    "#### Bounding Boxes\n",
    "\n",
    "Investigate implementation in reference API and decide whether to use\n",
    "Pillow (reference API) or cv2.rectangle (new implementation from scratch)\n",
    "\n",
    "```\n",
    "# Actual detection\n",
    "(boxes, scores, classes, num) = \\\n",
    "    sess.run([detection_boxes, detection_scores,\n",
    "             detection_classes, num_detections],\n",
    "             feed_dict={image_tensor: image_np_expanded})\n",
    "\n",
    "# Visualization of the results of a detection.\n",
    "(counter, csv_line) = \\\n",
    "    vis_util.visualize_boxes_and_labels_on_image_array(\n",
    "    cap.get(1),\n",
    "    input_frame,\n",
    "    np.squeeze(boxes),\n",
    "    np.squeeze(classes).astype(np.int32),\n",
    "    np.squeeze(scores),\n",
    "    category_index,\n",
    "    roi_info,\n",
    "    use_normalized_coordinates=True,\n",
    "    line_thickness=4,\n",
    "    )\n",
    "```"
   ],
   "metadata": {}
  },
  {
   "cell_type": "markdown",
   "source": [
    "https://stackoverflow.com/questions/48915003/get-the-bounding-box-coordinates-in-the-tensorflow-object-detection-api-tutorial"
   ],
   "metadata": {}
  },
  {
   "cell_type": "markdown",
   "source": [
    "```\n",
    "Adds a bounding box to an image.\n",
    "  Bounding box coordinates can be specified in either absolute (pixel) or\n",
    "  normalized coordinates by setting the use_normalized_coordinates argument.\n",
    "  Each string in display_str_list is displayed on a separate line above the\n",
    "  bounding box in black text on a rectangle filled with the input 'color'.\n",
    "  If the top of the bounding box extends to the edge of the image, the strings\n",
    "  are displayed below the bounding box.\n",
    "  Args:\n",
    "    image: a PIL.Image object.\n",
    "    ymin: ymin of bounding box.\n",
    "    xmin: xmin of bounding box.\n",
    "    ymax: ymax of bounding box.\n",
    "    xmax: xmax of bounding box.\n",
    "    color: color to draw bounding box. Default is red.\n",
    "    thickness: line thickness. Default value is 4.\n",
    "    display_str_list: list of strings to display in box\n",
    "                      (each to be shown on its own line).\n",
    "    use_normalized_coordinates: If True (default), treat coordinates\n",
    "      ymin, xmin, ymax, xmax as relative to the image.  Otherwise treat\n",
    "      coordinates as absolute.\n",
    "  ```"
   ],
   "metadata": {}
  },
  {
   "cell_type": "markdown",
   "source": [
    "**The following call sequence draws the bounding boxes**"
   ],
   "metadata": {}
  },
  {
   "cell_type": "markdown",
   "source": [
    "def draw_bounding_box_on_image_array"
   ],
   "metadata": {}
  },
  {
   "cell_type": "markdown",
   "source": [
    " ```\n",
    "  # Draw all boxes onto image.\n",
    "  for box, color in box_to_color_map.items():\n",
    "    ymin, xmin, ymax, xmax = box\n",
    "    if instance_masks is not None:\n",
    "      draw_mask_on_image_array(\n",
    "          image,\n",
    "          box_to_instance_masks_map[box],\n",
    "          color=color\n",
    "      )\n",
    "```"
   ],
   "metadata": {}
  },
  {
   "cell_type": "markdown",
   "source": [
    "  ```\n",
    "  image_pil = Image.fromarray(np.uint8(image)).convert('RGB')\n",
    "  is_vehicle_detected, csv_line, update_csv = draw_bounding_box_on_image(current_frame_number,image_pil, ymin, xmin, ymax, xmax, roi_info, color,\n",
    "                             thickness, display_str_list,\n",
    "                             use_normalized_coordinates)\n",
    "  np.copyto(image, np.array(image_pil))\n",
    "  return is_vehicle_detected, csv_line, update_csv\n",
    "```"
   ],
   "metadata": {}
  },
  {
   "cell_type": "markdown",
   "source": [
    "def draw_bounding_box_on_image"
   ],
   "metadata": {}
  },
  {
   "cell_type": "markdown",
   "source": [
    "```\n",
    "  image_temp = numpy.array(image)\n",
    "  csv_line = \"\" # to create new csv line consists of vehicle type, predicted_speed, color and predicted_direction\n",
    "  update_csv = False # update csv for a new vehicle that are passed from ROI - just one new line for each vehicles\n",
    "  is_vehicle_detected = [0]\n",
    "  draw = ImageDraw.Draw(image)\n",
    "  im_width, im_height = image.size\n",
    "  if use_normalized_coordinates:\n",
    "    (left, right, top, bottom) = (xmin * im_width, xmax * im_width,\n",
    "                                  ymin * im_height, ymax * im_height)\n",
    "  else:\n",
    "    (left, right, top, bottom) = (xmin, xmax, ymin, ymax)\n",
    "  draw.line([(left, top), (left, bottom), (right, bottom),\n",
    "             (right, top), (left, top)], width=thickness, fill=color)\n",
    "\n",
    "  detected_vehicle_image = image_temp[int(top):int(bottom), int(left):int(right)]\n",
    "  ```"
   ],
   "metadata": {}
  },
  {
   "cell_type": "markdown",
   "source": [
    "Boxes should be in the form of"
   ],
   "metadata": {}
  },
  {
   "cell_type": "markdown",
   "source": [
    "<center> [xmin,xmax,ymin,ymax]<center>"
   ],
   "metadata": {}
  },
  {
   "cell_type": "markdown",
   "source": [
    "To calculate `box_center`, use coordinates to calculate the center"
   ],
   "metadata": {}
  },
  {
   "cell_type": "markdown",
   "source": [],
   "metadata": {}
  }
 ],
 "metadata": {
  "kernelspec": {
   "display_name": "Python 3.8.5 64-bit ('anaconda3': virtualenv)",
   "language": "python",
   "name": "python385jvsc74a57bd01fa3a03e24d18829ccafe70da6c69ffaaeda1dae8bdf824830622d71397bb9d8"
  },
  "language_info": {
   "codemirror_mode": {
    "name": "ipython",
    "version": 3
   },
   "file_extension": ".py",
   "mimetype": "text/x-python",
   "name": "python",
   "nbconvert_exporter": "python",
   "pygments_lexer": "ipython3",
   "version": "3.8.5"
  }
 },
 "nbformat": 4,
 "nbformat_minor": 4
}